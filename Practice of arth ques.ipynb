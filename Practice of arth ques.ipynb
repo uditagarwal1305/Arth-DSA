{
 "cells": [
  {
   "cell_type": "code",
   "execution_count": 2,
   "id": "7de535f0",
   "metadata": {},
   "outputs": [
    {
     "name": "stdout",
     "output_type": "stream",
     "text": [
      "Enter no: 6\n",
      "5\n"
     ]
    }
   ],
   "source": [
    "i=int(input(\"Enter no: \"))\n",
    "l=[0,1]\n",
    "for n in range(2,i):\n",
    "    a=l[n-1]+l[n-2]\n",
    "    l.append(a)\n",
    "print(l[-1])"
   ]
  },
  {
   "cell_type": "code",
   "execution_count": 4,
   "id": "91dc7aff",
   "metadata": {},
   "outputs": [
    {
     "data": {
      "text/plain": [
       "104"
      ]
     },
     "execution_count": 4,
     "metadata": {},
     "output_type": "execute_result"
    }
   ],
   "source": [
    "def product(array,multi=1):\n",
    "    sum=0\n",
    "    for ele in array:\n",
    "        if type(ele)==list:\n",
    "            sum+=product(ele,multi+1)\n",
    "        else:\n",
    "            sum+=ele\n",
    "    return sum * multi\n",
    "product([3,4,[2,3],5,[4,[5,6]],8])"
   ]
  },
  {
   "cell_type": "code",
   "execution_count": 1,
   "id": "58ceca76",
   "metadata": {},
   "outputs": [
    {
     "data": {
      "text/plain": [
       "[[1, 2, 3], [1, 3, 2], [2, 1, 3], [2, 3, 1], [3, 1, 2], [3, 2, 1]]"
      ]
     },
     "execution_count": 1,
     "metadata": {},
     "output_type": "execute_result"
    }
   ],
   "source": [
    "def permu(arr):\n",
    "    if len(arr)==0:\n",
    "        return []\n",
    "    if len(arr)==1:\n",
    "        return [arr]\n",
    "    l=[]\n",
    "    for i in range(len(arr)):\n",
    "        m=arr[i]\n",
    "        rmvlis=arr[:i]+arr[i+1:]\n",
    "        for p in permu(rmvlis):\n",
    "            l.append([m]+p)\n",
    "    return l\n",
    "data=list('123')\n",
    "permu([1,2,3])"
   ]
  },
  {
   "cell_type": "code",
   "execution_count": 3,
   "id": "943db1bb",
   "metadata": {},
   "outputs": [
    {
     "data": {
      "text/plain": [
       "[[], [1], [2], [1, 2], [3], [1, 3], [2, 3], [1, 2, 3]]"
      ]
     },
     "execution_count": 3,
     "metadata": {},
     "output_type": "execute_result"
    }
   ],
   "source": [
    "def power(arr):\n",
    "    poli=[[]]\n",
    "    for i in range(0,len(arr)):\n",
    "        for j in range(0,len(poli)):\n",
    "            ele=poli[j].copy()\n",
    "            ele=ele+[arr[i]]\n",
    "            poli+=[ele]\n",
    "    return poli\n",
    "power([1,2,3])"
   ]
  },
  {
   "cell_type": "code",
   "execution_count": 5,
   "id": "10412e37",
   "metadata": {},
   "outputs": [
    {
     "data": {
      "text/plain": [
       "3"
      ]
     },
     "execution_count": 5,
     "metadata": {},
     "output_type": "execute_result"
    }
   ],
   "source": [
    "def stiar(height,maxstep):\n",
    "    ways=0\n",
    "    if height<1:\n",
    "        return 1\n",
    "    else:\n",
    "        for x in range(1,min(height,maxstep)+1):\n",
    "            ways+=stiar(height-x,maxstep)\n",
    "    return ways\n",
    "stiar(3,2)"
   ]
  },
  {
   "cell_type": "code",
   "execution_count": null,
   "id": "b192a55a",
   "metadata": {},
   "outputs": [],
   "source": []
  }
 ],
 "metadata": {
  "kernelspec": {
   "display_name": "Python 3",
   "language": "python",
   "name": "python3"
  },
  "language_info": {
   "codemirror_mode": {
    "name": "ipython",
    "version": 3
   },
   "file_extension": ".py",
   "mimetype": "text/x-python",
   "name": "python",
   "nbconvert_exporter": "python",
   "pygments_lexer": "ipython3",
   "version": "3.8.8"
  }
 },
 "nbformat": 4,
 "nbformat_minor": 5
}
