{
 "cells": [
  {
   "cell_type": "code",
   "execution_count": 9,
   "id": "552e729b",
   "metadata": {},
   "outputs": [
    {
     "data": {
      "text/plain": [
       "3"
      ]
     },
     "execution_count": 9,
     "metadata": {},
     "output_type": "execute_result"
    }
   ],
   "source": [
    "# Nth Fibonacci\n",
    "'''\n",
    "i=int(input(\"Enter no: \"))\n",
    "f=[0,1]\n",
    "for n in range(2,i):\n",
    "    a=f[n-1]+f[n-2]\n",
    "    f.append(a)\n",
    "print(f[-1])\n",
    "'''\n",
    "def fabonic(n):\n",
    "    if n==2:\n",
    "        return 1\n",
    "    if n==1:\n",
    "        return 0\n",
    "    else:\n",
    "        return fabonic(n-1)+fabonic(n-2)\n",
    "fabonic(5)"
   ]
  },
  {
   "cell_type": "code",
   "execution_count": 11,
   "id": "1ff700ed",
   "metadata": {},
   "outputs": [
    {
     "data": {
      "text/plain": [
       "104"
      ]
     },
     "execution_count": 11,
     "metadata": {},
     "output_type": "execute_result"
    }
   ],
   "source": [
    "'''a=input(\"Enter Array: \")\n",
    "count=0\n",
    "sum=0\n",
    "arr=[]\n",
    "for i in a:\n",
    "    if i==\"[\":\n",
    "        count++\n",
    "        try:\n",
    "            if int(i)==True:\n",
    "                                \n",
    "        except:\n",
    "            pass\n",
    "'''\n",
    "def productsum(array,multiplier=1):\n",
    "    sum=0\n",
    "    for element in array:\n",
    "        if type(element) is list:\n",
    "            sum+= productsum(element,multiplier+1)\n",
    "        else:\n",
    "            sum+=element\n",
    "    return sum*multiplier\n",
    "productsum([3,4,[2,3],5,[4,[5,6]],8])"
   ]
  },
  {
   "cell_type": "code",
   "execution_count": 11,
   "id": "3c4971d2",
   "metadata": {},
   "outputs": [
    {
     "data": {
      "text/plain": [
       "[['1', '2', '3'],\n",
       " ['1', '3', '2'],\n",
       " ['2', '1', '3'],\n",
       " ['2', '3', '1'],\n",
       " ['3', '1', '2'],\n",
       " ['3', '2', '1']]"
      ]
     },
     "execution_count": 11,
     "metadata": {},
     "output_type": "execute_result"
    }
   ],
   "source": [
    "# Python function to print permutations of a given list\n",
    "def permutation(lst):\n",
    "    if len(lst) == 0:\n",
    "        return []\n",
    "    if len(lst) == 1:\n",
    "        return [lst]\n",
    " \n",
    "    l = [] \n",
    "    \n",
    "    for i in range(len(lst)):\n",
    "        m = lst[i]\n",
    "    \n",
    "    \n",
    "        remLst = lst[:i] + lst[i+1:]\n",
    "    \n",
    "        for p in permutation(remLst):\n",
    "            l.append([m] + p)\n",
    "    return l\n",
    "\n",
    "data = list('123')\n",
    "permutation(data)"
   ]
  },
  {
   "cell_type": "code",
   "execution_count": 10,
   "id": "12279ece",
   "metadata": {},
   "outputs": [
    {
     "data": {
      "text/plain": [
       "[[], [1], [2], [1, 2], [3], [1, 3], [2, 3], [1, 2, 3]]"
      ]
     },
     "execution_count": 10,
     "metadata": {},
     "output_type": "execute_result"
    }
   ],
   "source": [
    "#Power set ques\n",
    "'''\n",
    "def power(arr):\n",
    "    if len(arr)==0:\n",
    "        return []\n",
    "    if len(arr)==1:\n",
    "        return [[],arr]\n",
    "    l=[]\n",
    "    for i in range(len(arr)):\n",
    "        m=arr[i]\n",
    "        l.append(m)\n",
    "        remlist=arr[:i]+arr[i+1:]\n",
    "        for p in power(remlist):\n",
    "            l.append(p)\n",
    "    return l\n",
    "power([1,2,3])\n",
    "\n",
    "def pow(arr):\n",
    "    l=[[]]\n",
    "    for a in arr:\n",
    "        l.append([a])\n",
    "    for x in arr:\n",
    "        \n",
    "\n",
    "pow([1,2,3])\n",
    "'''\n",
    "def power_set(lst):\n",
    "    pw_set = [[]]\n",
    "\n",
    "    for i in range(0,len(lst)):\n",
    "        for j in range(0,len(pw_set)):\n",
    "            ele = pw_set[j].copy()\n",
    "            ele = ele + [lst[i]]\n",
    "            pw_set = pw_set + [ele]\n",
    "\n",
    "    return pw_set\n",
    "power_set([1,2,3])"
   ]
  },
  {
   "cell_type": "code",
   "execution_count": 11,
   "id": "177b6f33",
   "metadata": {},
   "outputs": [
    {
     "data": {
      "text/plain": [
       "89"
      ]
     },
     "execution_count": 11,
     "metadata": {},
     "output_type": "execute_result"
    }
   ],
   "source": [
    "#Staircase Traversal\n",
    "def stair(height,maxstep):\n",
    "    ways=0\n",
    "    if height<=1:\n",
    "        return 1\n",
    "    else:\n",
    "        for x in range(1,min(height,maxstep)+1):\n",
    "            ways+=stair(height-x,maxstep)\n",
    "    return ways\n",
    "stair(10,2)"
   ]
  },
  {
   "cell_type": "code",
   "execution_count": 60,
   "id": "09def879",
   "metadata": {},
   "outputs": [
    {
     "name": "stdout",
     "output_type": "stream",
     "text": [
      "['a', 'd']\n",
      "['a', 'e']\n",
      "['a', 'f']\n",
      "['b', 'd']\n",
      "['b', 'e']\n",
      "['b', 'f']\n",
      "['c', 'd']\n",
      "['c', 'e']\n",
      "['c', 'f']\n"
     ]
    }
   ],
   "source": [
    "'''number={1:['1'],2:['a','b','c'],3:['d','e','f'],4:['g','h','i'],5:['j','k','l'],6:['m','n','o'],7:['p','q','r','s'],8:['t','u','v'],9:['w','x','y','z'],0:['0']}\n",
    "def menemonics(arr,curr,output,n):\n",
    "    newarr=[]\n",
    "    first=[]\n",
    "    for x in range(len(number[arr[curr]])):\n",
    "        a=number[x]\n",
    "        for y in a:\n",
    "            newarr+=                        \n",
    "'''\n",
    "def menemonics(arr,curr,output,n):\n",
    "    number={1:'1',2:'abc',3:'def',4:'ghi',5:'jkl',6:'mno',7:'pqrs',8:'tuv',9:'wxyz',0:'0'}\n",
    "    if(curr == n):\n",
    "        print(output)\n",
    "        return\n",
    "        \n",
    "    for x in range(len(number[arr[curr]])):\n",
    "        output.append(number[arr[curr]][x])\n",
    "        menemonics(arr, curr + 1, output, n)\n",
    "        output.pop()\n",
    "        if(arr[curr] == 0 or arr[curr] == 1):\n",
    "            return\n",
    "def printwords(number, n):\n",
    "    menemonics(number, 0, [], n)\n",
    "number = [2,3]\n",
    "n = len(number)\n",
    "printwords(number,n)\n",
    "        "
   ]
  },
  {
   "cell_type": "code",
   "execution_count": null,
   "id": "6c79ef01",
   "metadata": {},
   "outputs": [],
   "source": []
  }
 ],
 "metadata": {
  "kernelspec": {
   "display_name": "Python 3",
   "language": "python",
   "name": "python3"
  },
  "language_info": {
   "codemirror_mode": {
    "name": "ipython",
    "version": 3
   },
   "file_extension": ".py",
   "mimetype": "text/x-python",
   "name": "python",
   "nbconvert_exporter": "python",
   "pygments_lexer": "ipython3",
   "version": "3.8.8"
  }
 },
 "nbformat": 4,
 "nbformat_minor": 5
}
