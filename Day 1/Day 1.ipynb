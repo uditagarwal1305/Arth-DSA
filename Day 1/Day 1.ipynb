{
 "cells": [
  {
   "cell_type": "code",
   "execution_count": 1,
   "id": "086ddb92",
   "metadata": {},
   "outputs": [
    {
     "data": {
      "text/plain": [
       "3"
      ]
     },
     "execution_count": 1,
     "metadata": {},
     "output_type": "execute_result"
    }
   ],
   "source": [
    "# Nth Fibonacci\n",
    "'''\n",
    "i=int(input(\"Enter no: \"))\n",
    "f=[0,1]\n",
    "for n in range(2,i):\n",
    "    a=f[n-1]+f[n-2]\n",
    "    f.append(a)\n",
    "print(f[-1])\n",
    "'''\n",
    "def fabonic(n):\n",
    "    if n==2:\n",
    "        return 1\n",
    "    if n==1:\n",
    "        return 0\n",
    "    else:\n",
    "        return fabonic(n-1)+fabonic(n-2)\n",
    "fabonic(5)"
   ]
  },
  {
   "cell_type": "code",
   "execution_count": 2,
   "id": "7237b935",
   "metadata": {},
   "outputs": [
    {
     "data": {
      "text/plain": [
       "104"
      ]
     },
     "execution_count": 2,
     "metadata": {},
     "output_type": "execute_result"
    }
   ],
   "source": [
    "'''a=input(\"Enter Array: \")\n",
    "count=0\n",
    "sum=0\n",
    "arr=[]\n",
    "for i in a:\n",
    "    if i==\"[\":\n",
    "        count++\n",
    "        try:\n",
    "            if int(i)==True:\n",
    "                                \n",
    "        except:\n",
    "            pass\n",
    "'''\n",
    "def productsum(array,multiplier=1):\n",
    "    sum=0\n",
    "    for element in array:\n",
    "        if type(element) is list:\n",
    "            sum+= productsum(element,multiplier+1)\n",
    "        else:\n",
    "            sum+=element\n",
    "    return sum*multiplier\n",
    "productsum([3,4,[2,3],5,[4,[5,6]],8])"
   ]
  },
  {
   "cell_type": "code",
   "execution_count": 3,
   "id": "f6d2546c",
   "metadata": {},
   "outputs": [
    {
     "data": {
      "text/plain": [
       "[['1', '2', '3'],\n",
       " ['1', '3', '2'],\n",
       " ['2', '1', '3'],\n",
       " ['2', '3', '1'],\n",
       " ['3', '1', '2'],\n",
       " ['3', '2', '1']]"
      ]
     },
     "execution_count": 3,
     "metadata": {},
     "output_type": "execute_result"
    }
   ],
   "source": [
    "# Python function to print permutations of a given list\n",
    "def permutation(lst):\n",
    "    if len(lst) == 0:\n",
    "        return []\n",
    "    if len(lst) == 1:\n",
    "        return [lst]\n",
    " \n",
    "    l = [] \n",
    "    \n",
    "    for i in range(len(lst)):\n",
    "        m = lst[i]\n",
    "    \n",
    "    \n",
    "        remLst = lst[:i] + lst[i+1:]\n",
    "    \n",
    "        for p in permutation(remLst):\n",
    "            l.append([m] + p)\n",
    "    return l\n",
    "\n",
    "data = list('123')\n",
    "permutation(data)"
   ]
  },
  {
   "cell_type": "code",
   "execution_count": null,
   "id": "fd169c10",
   "metadata": {},
   "outputs": [],
   "source": []
  }
 ],
 "metadata": {
  "kernelspec": {
   "display_name": "Python 3",
   "language": "python",
   "name": "python3"
  },
  "language_info": {
   "codemirror_mode": {
    "name": "ipython",
    "version": 3
   },
   "file_extension": ".py",
   "mimetype": "text/x-python",
   "name": "python",
   "nbconvert_exporter": "python",
   "pygments_lexer": "ipython3",
   "version": "3.8.8"
  }
 },
 "nbformat": 4,
 "nbformat_minor": 5
}
