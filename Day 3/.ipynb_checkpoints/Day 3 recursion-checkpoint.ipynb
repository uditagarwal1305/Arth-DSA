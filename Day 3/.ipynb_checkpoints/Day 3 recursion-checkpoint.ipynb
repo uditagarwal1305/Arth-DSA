{
 "cells": [
  {
   "cell_type": "code",
   "execution_count": 1,
   "id": "02d51d4a",
   "metadata": {},
   "outputs": [
    {
     "name": "stdout",
     "output_type": "stream",
     "text": [
      "Node: A\n"
     ]
    }
   ],
   "source": [
    "#Lowest Common Manager\n",
    "class Node:\n",
    "    def __init__(self,key):\n",
    "        self.key=key\n",
    "        self.left=None\n",
    "        self.right=None\n",
    "def findpath(root,path,k):\n",
    "    if root is None:\n",
    "        return False\n",
    "    path.append(root.key)\n",
    "    if root.key==k:\n",
    "        return True\n",
    "    if (root.left!=None and findpath(root.left,path,k)) or (root.right!=None and findpath(root.right,path,k)):\n",
    "        return True\n",
    "    path.pop()\n",
    "    return False\n",
    "def findlcm(root,n1,n2):\n",
    "    path1=[]\n",
    "    path2=[]\n",
    "    if (not findpath(root,path1,n1) or not findpath(root,path2,n2)):\n",
    "        return -1\n",
    "    i=0\n",
    "    while(i < len(path1) and i < len(path2)):\n",
    "        if path1[i] != path2[i]:\n",
    "            break\n",
    "        i += 1\n",
    "    return path1[i-1]\n",
    "root = Node('A')\n",
    "root.left = Node('B')\n",
    "root.right = Node('C')\n",
    "root.left.left = Node('D')\n",
    "root.left.right = Node('E')\n",
    "root.right.left = Node('F')\n",
    "root.right.right = Node('G')\n",
    "root.left.left.left = Node('H')\n",
    "root.left.left.right = Node('I')\n",
    "print(\"Node: \"+findlcm(root,'G','D'))"
   ]
  },
  {
   "cell_type": "code",
   "execution_count": null,
   "id": "7654192c",
   "metadata": {},
   "outputs": [],
   "source": []
  }
 ],
 "metadata": {
  "kernelspec": {
   "display_name": "Python 3",
   "language": "python",
   "name": "python3"
  },
  "language_info": {
   "codemirror_mode": {
    "name": "ipython",
    "version": 3
   },
   "file_extension": ".py",
   "mimetype": "text/x-python",
   "name": "python",
   "nbconvert_exporter": "python",
   "pygments_lexer": "ipython3",
   "version": "3.8.8"
  }
 },
 "nbformat": 4,
 "nbformat_minor": 5
}
